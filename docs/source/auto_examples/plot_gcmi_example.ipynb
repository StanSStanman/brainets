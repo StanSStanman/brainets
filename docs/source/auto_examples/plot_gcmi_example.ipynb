{
  "cells": [
    {
      "cell_type": "code",
      "execution_count": null,
      "metadata": {
        "collapsed": false
      },
      "outputs": [],
      "source": [
        "%matplotlib inline"
      ]
    },
    {
      "cell_type": "markdown",
      "metadata": {},
      "source": [
        "\nCompute GCMI on random datasets\n===============================\n\nThis example illustrates :\n\n    * How to organize the data (M/SEEG)\n    * How to prepare the data\n    * Compute the GCMI\n\n"
      ]
    },
    {
      "cell_type": "code",
      "execution_count": null,
      "metadata": {
        "collapsed": false
      },
      "outputs": [],
      "source": [
        "import numpy as np\n\nfrom brainets.infodyn import (gcmi_random_dataset, gcmi_prepare_data,\n                              gcmi_corrected)\n\nimport matplotlib.pyplot as plt"
      ]
    },
    {
      "cell_type": "markdown",
      "metadata": {},
      "source": [
        "Generate random datasets\n##############################################################################\n Generate two random datasets (e.g. data coming from two subjects), then\n concatenate the datasets (data, dP and roi)\n\n"
      ]
    },
    {
      "cell_type": "code",
      "execution_count": null,
      "metadata": {
        "collapsed": false
      },
      "outputs": [],
      "source": [
        "# Subject 1\ndata_1, dp_1, roi_1 = gcmi_random_dataset(n_trials=30, random_state=1)\n# Subject 2\ndata_2, dp_2, roi_2 = gcmi_random_dataset(n_trials=40, random_state=2)\n\n# Concatenate the data of the three subjects\ndata = [data_1, data_2]\ndp = [dp_1, dp_2]\nroi = [roi_1, roi_2]\ntimes = np.linspace(-1.5, 1.5, data_1.shape[-1], endpoint=True)"
      ]
    },
    {
      "cell_type": "markdown",
      "metadata": {},
      "source": [
        "Prepare the data\n##############################################################################\n Prepare the data before computing the GCMI.\n\n"
      ]
    },
    {
      "cell_type": "code",
      "execution_count": null,
      "metadata": {
        "collapsed": false
      },
      "outputs": [],
      "source": [
        "# Prepare the data\nx = gcmi_prepare_data(data, dp, roi, times=times)\n\n# Mean inside each roi\ndata_roi = np.c_[tuple([k.data.mean(0) for k in x])].T"
      ]
    },
    {
      "cell_type": "markdown",
      "metadata": {},
      "source": [
        "Compute the GCMI\n##############################################################################\n\n"
      ]
    },
    {
      "cell_type": "code",
      "execution_count": null,
      "metadata": {
        "collapsed": false
      },
      "outputs": [],
      "source": [
        "smooth = 5\nstat = 'cluster'  # {'cluster', 'maxstat'}\ncorrection = 'fdr'  # {'fdr', 'bonferroni', 'maxstat'}\nalpha = .05\nn_perm = 30\n\ngcmi, pvalues = gcmi_corrected(x, n_perm=n_perm, smooth=smooth, stat='cluster',\n                               decim=None, correction=correction, alpha=alpha)"
      ]
    },
    {
      "cell_type": "markdown",
      "metadata": {},
      "source": [
        "Plot the data, GCMI and p-values\n##############################################################################\n\n"
      ]
    },
    {
      "cell_type": "code",
      "execution_count": null,
      "metadata": {
        "collapsed": false
      },
      "outputs": [],
      "source": [
        "plt.subplot(311)\nplt.plot(times, data_roi.T)\nplt.xlabel('Times (s)'), plt.ylabel('uV/hz')\nplt.title('Data per roi')\n\nplt.subplot(312)\ntimes = np.linspace(-1.5, 1.5, gcmi.shape[1], endpoint=True)\nplt.plot(times, gcmi.T)\nplt.xlabel('Times (s)'), plt.ylabel('au')\nplt.title('GCMI per roi')\n\nplt.subplot(313)\nplt.plot(times, pvalues.T)\nplt.xlabel('Times (s)'), plt.ylabel('p-values')\nplt.title('P-values per roi')\n\nplt.tight_layout()\n\nplt.show()"
      ]
    }
  ],
  "metadata": {
    "kernelspec": {
      "display_name": "Python 3",
      "language": "python",
      "name": "python3"
    },
    "language_info": {
      "codemirror_mode": {
        "name": "ipython",
        "version": 3
      },
      "file_extension": ".py",
      "mimetype": "text/x-python",
      "name": "python",
      "nbconvert_exporter": "python",
      "pygments_lexer": "ipython3",
      "version": "3.7.1"
    }
  },
  "nbformat": 4,
  "nbformat_minor": 0
}